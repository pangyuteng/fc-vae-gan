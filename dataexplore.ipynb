{
 "cells": [
  {
   "cell_type": "code",
   "execution_count": 1,
   "metadata": {},
   "outputs": [
    {
     "name": "stderr",
     "output_type": "stream",
     "text": [
      "/home/yoyoteng/anaconda3/envs/py35tf/lib/python3.6/site-packages/tensorflow/python/framework/dtypes.py:516: FutureWarning: Passing (type, 1) or '1type' as a synonym of type is deprecated; in a future version of numpy, it will be understood as (type, (1,)) / '(1,)type'.\n",
      "  _np_qint8 = np.dtype([(\"qint8\", np.int8, 1)])\n",
      "/home/yoyoteng/anaconda3/envs/py35tf/lib/python3.6/site-packages/tensorflow/python/framework/dtypes.py:517: FutureWarning: Passing (type, 1) or '1type' as a synonym of type is deprecated; in a future version of numpy, it will be understood as (type, (1,)) / '(1,)type'.\n",
      "  _np_quint8 = np.dtype([(\"quint8\", np.uint8, 1)])\n",
      "/home/yoyoteng/anaconda3/envs/py35tf/lib/python3.6/site-packages/tensorflow/python/framework/dtypes.py:518: FutureWarning: Passing (type, 1) or '1type' as a synonym of type is deprecated; in a future version of numpy, it will be understood as (type, (1,)) / '(1,)type'.\n",
      "  _np_qint16 = np.dtype([(\"qint16\", np.int16, 1)])\n",
      "/home/yoyoteng/anaconda3/envs/py35tf/lib/python3.6/site-packages/tensorflow/python/framework/dtypes.py:519: FutureWarning: Passing (type, 1) or '1type' as a synonym of type is deprecated; in a future version of numpy, it will be understood as (type, (1,)) / '(1,)type'.\n",
      "  _np_quint16 = np.dtype([(\"quint16\", np.uint16, 1)])\n",
      "/home/yoyoteng/anaconda3/envs/py35tf/lib/python3.6/site-packages/tensorflow/python/framework/dtypes.py:520: FutureWarning: Passing (type, 1) or '1type' as a synonym of type is deprecated; in a future version of numpy, it will be understood as (type, (1,)) / '(1,)type'.\n",
      "  _np_qint32 = np.dtype([(\"qint32\", np.int32, 1)])\n",
      "/home/yoyoteng/anaconda3/envs/py35tf/lib/python3.6/site-packages/tensorflow/python/framework/dtypes.py:525: FutureWarning: Passing (type, 1) or '1type' as a synonym of type is deprecated; in a future version of numpy, it will be understood as (type, (1,)) / '(1,)type'.\n",
      "  np_resource = np.dtype([(\"resource\", np.ubyte, 1)])\n",
      "/home/yoyoteng/anaconda3/envs/py35tf/lib/python3.6/site-packages/tensorboard/compat/tensorflow_stub/dtypes.py:541: FutureWarning: Passing (type, 1) or '1type' as a synonym of type is deprecated; in a future version of numpy, it will be understood as (type, (1,)) / '(1,)type'.\n",
      "  _np_qint8 = np.dtype([(\"qint8\", np.int8, 1)])\n",
      "/home/yoyoteng/anaconda3/envs/py35tf/lib/python3.6/site-packages/tensorboard/compat/tensorflow_stub/dtypes.py:542: FutureWarning: Passing (type, 1) or '1type' as a synonym of type is deprecated; in a future version of numpy, it will be understood as (type, (1,)) / '(1,)type'.\n",
      "  _np_quint8 = np.dtype([(\"quint8\", np.uint8, 1)])\n",
      "/home/yoyoteng/anaconda3/envs/py35tf/lib/python3.6/site-packages/tensorboard/compat/tensorflow_stub/dtypes.py:543: FutureWarning: Passing (type, 1) or '1type' as a synonym of type is deprecated; in a future version of numpy, it will be understood as (type, (1,)) / '(1,)type'.\n",
      "  _np_qint16 = np.dtype([(\"qint16\", np.int16, 1)])\n",
      "/home/yoyoteng/anaconda3/envs/py35tf/lib/python3.6/site-packages/tensorboard/compat/tensorflow_stub/dtypes.py:544: FutureWarning: Passing (type, 1) or '1type' as a synonym of type is deprecated; in a future version of numpy, it will be understood as (type, (1,)) / '(1,)type'.\n",
      "  _np_quint16 = np.dtype([(\"quint16\", np.uint16, 1)])\n",
      "/home/yoyoteng/anaconda3/envs/py35tf/lib/python3.6/site-packages/tensorboard/compat/tensorflow_stub/dtypes.py:545: FutureWarning: Passing (type, 1) or '1type' as a synonym of type is deprecated; in a future version of numpy, it will be understood as (type, (1,)) / '(1,)type'.\n",
      "  _np_qint32 = np.dtype([(\"qint32\", np.int32, 1)])\n",
      "/home/yoyoteng/anaconda3/envs/py35tf/lib/python3.6/site-packages/tensorboard/compat/tensorflow_stub/dtypes.py:550: FutureWarning: Passing (type, 1) or '1type' as a synonym of type is deprecated; in a future version of numpy, it will be understood as (type, (1,)) / '(1,)type'.\n",
      "  np_resource = np.dtype([(\"resource\", np.ubyte, 1)])\n"
     ]
    }
   ],
   "source": [
    "# input data explorer\n",
    "import os, sys\n",
    "import numpy as np\n",
    "import tensorflow as tf\n",
    "\n",
    "# configure Tensorflow\n",
    "session_conf = tf.ConfigProto(intra_op_parallelism_threads=1, inter_op_parallelism_threads=1)\n",
    "session_conf.gpu_options.allow_growth=True\n",
    "\n",
    "# intialize TF\n",
    "tf.reset_default_graph()\n",
    "sess = tf.Session(graph=tf.get_default_graph(), config=session_conf)\n",
    "init = tf.global_variables_initializer()\n",
    "sess.run(init)\n",
    "\n",
    "# iterate through data "
   ]
  },
  {
   "cell_type": "code",
   "execution_count": 2,
   "metadata": {},
   "outputs": [
    {
     "name": "stdout",
     "output_type": "stream",
     "text": [
      "WARNING:tensorflow:From /media/external/scisoft/fc-vae-gan/fcvaegan.py:14: The name tf.random.set_random_seed is deprecated. Please use tf.compat.v1.random.set_random_seed instead.\n",
      "\n",
      "WARNING:tensorflow:From /media/external/scisoft/fc-vae-gan/fcvaegan.py:15: The name tf.logging.set_verbosity is deprecated. Please use tf.compat.v1.logging.set_verbosity instead.\n",
      "\n",
      "WARNING:tensorflow:From /media/external/scisoft/fc-vae-gan/fcvaegan.py:15: The name tf.logging.INFO is deprecated. Please use tf.compat.v1.logging.INFO instead.\n",
      "\n",
      "WARNING:tensorflow:From /media/external/scisoft/fc-vae-gan/fcvaegan.py:17: The name tf.ConfigProto is deprecated. Please use tf.compat.v1.ConfigProto instead.\n",
      "\n",
      "WARNING:tensorflow:From <ipython-input-2-937b0f00a4f4>:25: string_input_producer (from tensorflow.python.training.input) is deprecated and will be removed in a future version.\n",
      "Instructions for updating:\n",
      "Queue-based input pipelines have been replaced by `tf.data`. Use `tf.data.Dataset.from_tensor_slices(string_tensor).shuffle(tf.shape(input_tensor, out_type=tf.int64)[0]).repeat(num_epochs)`. If `shuffle=False`, omit the `.shuffle(...)`.\n",
      "WARNING:tensorflow:From /home/yoyoteng/anaconda3/envs/py35tf/lib/python3.6/site-packages/tensorflow/python/training/input.py:278: input_producer (from tensorflow.python.training.input) is deprecated and will be removed in a future version.\n",
      "Instructions for updating:\n",
      "Queue-based input pipelines have been replaced by `tf.data`. Use `tf.data.Dataset.from_tensor_slices(input_tensor).shuffle(tf.shape(input_tensor, out_type=tf.int64)[0]).repeat(num_epochs)`. If `shuffle=False`, omit the `.shuffle(...)`.\n",
      "WARNING:tensorflow:From /home/yoyoteng/anaconda3/envs/py35tf/lib/python3.6/site-packages/tensorflow/python/training/input.py:190: limit_epochs (from tensorflow.python.training.input) is deprecated and will be removed in a future version.\n",
      "Instructions for updating:\n",
      "Queue-based input pipelines have been replaced by `tf.data`. Use `tf.data.Dataset.from_tensors(tensor).repeat(num_epochs)`.\n",
      "WARNING:tensorflow:From /home/yoyoteng/anaconda3/envs/py35tf/lib/python3.6/site-packages/tensorflow/python/training/input.py:199: QueueRunner.__init__ (from tensorflow.python.training.queue_runner_impl) is deprecated and will be removed in a future version.\n",
      "Instructions for updating:\n",
      "To construct input pipelines, use the `tf.data` module.\n",
      "WARNING:tensorflow:From /home/yoyoteng/anaconda3/envs/py35tf/lib/python3.6/site-packages/tensorflow/python/training/input.py:199: add_queue_runner (from tensorflow.python.training.queue_runner_impl) is deprecated and will be removed in a future version.\n",
      "Instructions for updating:\n",
      "To construct input pipelines, use the `tf.data` module.\n",
      "WARNING:tensorflow:From /media/external/scisoft/fc-vae-gan/data/pascal.py:207: TFRecordReader.__init__ (from tensorflow.python.ops.io_ops) is deprecated and will be removed in a future version.\n",
      "Instructions for updating:\n",
      "Queue-based input pipelines have been replaced by `tf.data`. Use `tf.data.TFRecordDataset`.\n",
      "WARNING:tensorflow:From /media/external/scisoft/fc-vae-gan/data/pascal.py:210: The name tf.parse_single_example is deprecated. Please use tf.io.parse_single_example instead.\n",
      "\n",
      "WARNING:tensorflow:From /media/external/scisoft/fc-vae-gan/data/pascal.py:213: The name tf.FixedLenFeature is deprecated. Please use tf.io.FixedLenFeature instead.\n",
      "\n",
      "WARNING:tensorflow:From <ipython-input-2-937b0f00a4f4>:30: batch (from tensorflow.python.training.input) is deprecated and will be removed in a future version.\n",
      "Instructions for updating:\n",
      "Queue-based input pipelines have been replaced by `tf.data`. Use `tf.data.Dataset.batch(batch_size)` (or `padded_batch(...)` if `dynamic_pad=True`).\n"
     ]
    }
   ],
   "source": [
    "# import stuff.\n",
    "from fcvaegan import (\n",
    "    Model,\n",
    "    MODEL_DIR,\n",
    "    INPUT_TENSOR_NAME,\n",
    "    SIGNATURE_NAME,\n",
    "    read_and_decode,\n",
    "    PARAMS,\n",
    "    W,H,C,CY,\n",
    "    TRAIN_DIR,\n",
    "    NUM_EXAMPLES_TRAIN,\n",
    "    NUM_EXAMPLES_VALIDATION,\n",
    "    NUM_EXAMPLES_TEST,\n",
    ")\n",
    "params = dict(PARAMS)\n",
    "params.update({\n",
    "    'is_training':True, # this impact inferences....due to batch norm...?\n",
    "    'batch_size':4, # <<--- 4 is good for 6gb gpu.\n",
    "})\n",
    "\n",
    "batch_size = 1\n",
    "\n",
    "def _input_fn(training_dir, training_filename, batch_size=batch_size):\n",
    "    test_file = os.path.join(training_dir, training_filename)\n",
    "    filename_queue = tf.train.string_input_producer([test_file])\n",
    "\n",
    "    image, label = read_and_decode(filename_queue)\n",
    "    images, labels = tf.train.batch(\n",
    "        [image, label], batch_size=batch_size,\n",
    "        capacity=1000 + 10 * batch_size)\n",
    "    return {INPUT_TENSOR_NAME: images}, labels\n",
    "\n",
    "\n",
    "#def eval_input_fn(training_dir=TRAIN_DIR, batch_size=batch_size, params=None):\n",
    "#    return _input_fn(training_dir, 'validation.tfrecords', batch_size=batch_size)\n",
    "#tf_images,tf_labels = eval_input_fn(batch_size=batch_size)\n",
    "\n",
    "def train_input_fn(training_dir=TRAIN_DIR, batch_size=batch_size, params=None):\n",
    "    return _input_fn(training_dir, 'train.tfrecords', batch_size=batch_size)\n",
    "tf_images,tf_labels = train_input_fn(batch_size=batch_size)"
   ]
  },
  {
   "cell_type": "code",
   "execution_count": 3,
   "metadata": {},
   "outputs": [
    {
     "name": "stdout",
     "output_type": "stream",
     "text": [
      "WARNING:tensorflow:From <ipython-input-3-386cf6723d9a>:2: start_queue_runners (from tensorflow.python.training.queue_runner_impl) is deprecated and will be removed in a future version.\n",
      "Instructions for updating:\n",
      "To construct input pipelines, use the `tf.data` module.\n"
     ]
    }
   ],
   "source": [
    "coord = tf.train.Coordinator()\n",
    "threads = tf.train.start_queue_runners(coord=coord,sess=sess)    \n"
   ]
  },
  {
   "cell_type": "code",
   "execution_count": 4,
   "metadata": {},
   "outputs": [],
   "source": [
    "import matplotlib.pyplot as plt\n",
    "%matplotlib inline"
   ]
  },
  {
   "cell_type": "code",
   "execution_count": 5,
   "metadata": {},
   "outputs": [],
   "source": [
    "import yaml\n",
    "with open('/media/external/scisoft/fc-vae-gan/data/label.yml','r') as f:\n",
    "    label_dict = yaml.load(f.read())\n",
    "max_labe_num = len(label_dict)"
   ]
  },
  {
   "cell_type": "code",
   "execution_count": 6,
   "metadata": {},
   "outputs": [],
   "source": [
    "total_count,bins = np.histogram([],bins=max_labe_num,range=(0,max_labe_num))\n",
    "total_count = np.array(total_count)\n",
    "for n in range(NUM_EXAMPLES_TRAIN):\n",
    "    img, lbl = sess.run([tf_images,tf_labels])\n",
    "    count,bins = np.histogram(list((lbl.ravel())),bins=max_labe_num,range=(0,max_labe_num))\n",
    "    total_count += np.array(count)"
   ]
  },
  {
   "cell_type": "code",
   "execution_count": 10,
   "metadata": {},
   "outputs": [
    {
     "name": "stdout",
     "output_type": "stream",
     "text": [
      "aeroplane 774745\n",
      "building 4636206\n",
      "bus 1051391\n",
      "car 1802100\n",
      "cat 2348562\n",
      "chair 1181837\n",
      "dog 2080085\n",
      "fence 833917\n",
      "floor 2246440\n",
      "grass 4786213\n",
      "ground 4621157\n",
      "horse 679395\n",
      "motorbike 840048\n",
      "person 5878656\n",
      "road 1761354\n",
      "sky 6455033\n",
      "sofa 1583421\n",
      "table 1169882\n",
      "train 978967\n",
      "tree 4343756\n",
      "unknown 2412597\n",
      "wall 4506981\n",
      "water 2329228\n"
     ]
    }
   ],
   "source": [
    "for ind in np.argwhere(total_count>np.percentile(total_count,95)):\n",
    "    print(label_dict[ind[0]],total_count[ind[0]])"
   ]
  },
  {
   "cell_type": "code",
   "execution_count": 8,
   "metadata": {},
   "outputs": [
    {
     "data": {
      "text/plain": [
       "array([      0,     269,  774745,    1763,     108,     550,    2080,\n",
       "          2237,   21761,   66987,    1476,    5234,       0,    1368,\n",
       "           182,   26156,    1153,    2341,  259666,  542774,       0,\n",
       "           207,   67328,  630591,       0,  525907,   70406,   12816,\n",
       "         13725,    4172,   91288,  602538,     898,  123708,  465762,\n",
       "           105,   27841,  149963,       0,    2182,   18687,     144,\n",
       "         90245,   23693, 4636206, 1051391,  579991,       0,   62231,\n",
       "             0,       0,    2968,       0,    1602,       0,   18724,\n",
       "          2833,    2754,     626, 1802100,    2386,    8964,   26853,\n",
       "             0,       0, 2348562,   16711,     230,  471751,    1417,\n",
       "          6395,     581, 1181837,     461,       0,     806,      78,\n",
       "             0,    6564,       0,  519946,       0,     155,     460,\n",
       "           388,   43271,    3417,    3359,   25193,       0,    1506,\n",
       "             0,       0,       0,       0,       0,   22688,       0,\n",
       "        418361,     404,     459,     204,      51,       0,   68626,\n",
       "        333137,   67106,       0,       0,     557,    8751,       0,\n",
       "          1357, 2080085,       0,  313818,      17,    1718,     307,\n",
       "          1213,       0,       0,   10094,    3710,    9836,       0,\n",
       "           134,       0,     395,    1183,      70,     335,       0,\n",
       "             0,     662,       0,   17864,       0,       0,     839,\n",
       "          1133,    6161,    1479,       0,  833917,       0,      66,\n",
       "          1357,   36391,     726,    2351,       0,    1267,       0,\n",
       "         18435,     214,       0,       0, 2246440,  124840,      74,\n",
       "             0,  117102,       0,       0,    4888,       0,     230,\n",
       "             0,    5618,   42922,       0,       0,       0,     157,\n",
       "             0,     277,       0,       0,       0,       0,    6538,\n",
       "             0,       0,    2694,    2205,   47362, 4786213,       0,\n",
       "       4621157,   14452,   10640,     339,       0,    2117,     893,\n",
       "            88,      13,       0,   11749,    2896,     350,     449,\n",
       "          6028,    8209,     154,       0,  679395,   31956,       0,\n",
       "             0,   19348,       0,    1248,       0,       0,    6516,\n",
       "             0,       0,    1067,   43312,    1829,       0,    4053,\n",
       "            50,    5121,     139,       0,   80327,   24140,       0,\n",
       "          4389,   86727,       0,      36,       0,       0,       0,\n",
       "             0,       0,      66,    1958,   10337,       0,   37465,\n",
       "           379,     648,   10008,   47516,     552,    2090,    8420,\n",
       "         39484,       0,    4549,       0,     455,       0,  840048,\n",
       "        526227,    4135,   13838,   11307,   20428,    3352,    7285,\n",
       "          8081,       0,    1170,   10497,       0,   88939,    2441,\n",
       "         91937,     649,    2042,      41,    9460,    2416,       0,\n",
       "             0,    1413,     412,     215, 5878656,     579,    1009,\n",
       "        296077,     233,    3294,   53475,    3998,     774,  135602,\n",
       "          2522,  111656,  200910,    1801,     953,       0,       0,\n",
       "             0,       0,  177731,       0,     289,  100371,   67353,\n",
       "        544899,    8537,      49,       0,      23,     778,    9881,\n",
       "           522,   15936,      56,       0,    2893,    1011,       0,\n",
       "             0,    8315, 1761354,       0,  258227,       0,     127,\n",
       "         47448,  313258,     255,    2825,   11949,  132190,     254,\n",
       "          1189,     252,       0,       0,    6297,      25,   58232,\n",
       "             0,     335,       0,       0,  369503,    1116,  257917,\n",
       "         16616,     674,     170,    3675,  250895,  104108,    2876,\n",
       "         47097,       0,    1518, 6455033,       0,       0,   44636,\n",
       "             0,       0,  366501,       0, 1583421,       0,       0,\n",
       "         24528,       0,    1430,    2536,       0,       0,   83519,\n",
       "         41049,     128,      89,     537,       0,    2330,    2611,\n",
       "           139,       0,       0,     539,       0,       0,       0,\n",
       "             0,     308,       0,     354,     402, 1169882,    1804,\n",
       "           862,    3741,     625,       0,    4627,       0,   43081,\n",
       "          9167,    1411,    4144,     270,     239,     131,    7668,\n",
       "        160637,    2908,  252386,  978967,    2393,   18962,    2955,\n",
       "       4343756,       0,    2602,     246,   56784,    1516,       0,\n",
       "        552109,       0,     554,     748, 2412597,    2518,       0,\n",
       "          2273,    1507,   12120,    2023,     145,       0, 4506981,\n",
       "          1133,    5031,   24760,       9, 2329228,     730,     343,\n",
       "             0,    1266,       0,       0,   11128,     455,  574227,\n",
       "             0,   46386,   11843,  238649])"
      ]
     },
     "execution_count": 8,
     "metadata": {},
     "output_type": "execute_result"
    }
   ],
   "source": [
    "total_count"
   ]
  },
  {
   "cell_type": "code",
   "execution_count": 45,
   "metadata": {},
   "outputs": [],
   "source": [
    "STOP = False\n",
    "if STOP:\n",
    "    coord.request_stop()\n",
    "    # Wait for threads to stop\n",
    "    coord.join(threads)"
   ]
  }
 ],
 "metadata": {
  "kernelspec": {
   "display_name": "Python 3",
   "language": "python",
   "name": "python3"
  },
  "language_info": {
   "codemirror_mode": {
    "name": "ipython",
    "version": 3
   },
   "file_extension": ".py",
   "mimetype": "text/x-python",
   "name": "python",
   "nbconvert_exporter": "python",
   "pygments_lexer": "ipython3",
   "version": "3.6.7"
  }
 },
 "nbformat": 4,
 "nbformat_minor": 2
}
